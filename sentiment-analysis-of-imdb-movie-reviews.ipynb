{
 "cells": [
  {
   "cell_type": "markdown",
   "metadata": {
    "_cell_guid": "b1076dfc-b9ad-4769-8c92-a6c4dae69d19",
    "_uuid": "8f2839f25d086af736a60e9eeb907d3b93b6e0e5"
   },
   "source": [
    "\n",
    "<br>\n",
    "<h1 style = \"font-size:40px; font-weight : bold; color : green; text-align: center; border-radius: 10px 15px;\">IMDB Review Sentiment Analysis</h1>\n",
    "<br>\n",
    "\n",
    "---"
   ]
  },
  {
   "cell_type": "markdown",
   "metadata": {},
   "source": [
    "# Overview\n",
    "\n",
    "The objective of this project is to train a model which will be able to predict the number of positive and negative reviews based on sentiments by using different classification models.\n"
   ]
  },
  {
   "cell_type": "markdown",
   "metadata": {},
   "source": [
    "# <a id='18'>Content</a>\n",
    "\n",
    "\n",
    "1. <a href='#1'>Importing necessary Libraries and Dataset</a>  \n",
    "2. <a href='#2'>Exploratory Data Analysis</a>  \n",
    "3. <a href='#3'>Preparing the Data for train test split</a>\n",
    "    - 3.1. <a href='#7'>Text Normalization</a>\n",
    "    - 3.2. <a href='#8'>Removing html strips and noise text</a>\n",
    "    - 3.3. <a href='#9'>Removing special characters</a>\n",
    "    - 3.4. <a href='#10'>Removing stopwords</a>\n",
    "    - 3.5. <a href='#11'>Normalized training set reviews</a>\n",
    "    - 3.6. <a href='#12'>Normalized test set reviews</a>\n",
    "4. <a href='#4'>Processing the text using models</a>    \n",
    "    - 4.1 <a href='#13'>Bag of words Model</a>\n",
    "    - 4.2 <a href='#14'>Term Frequency-Inverse Document Frequency model (TFIDF)</a>\n",
    "5. <a href='#5'>Modelling the dataset and Performance Metrics</a>\n",
    "    - 5.1. <a href='#15'>Logistic Regression models</a>\n",
    "    - 5.2. <a href='#16'>Stochastic gradient descent or Linear support vector machines</a>\n",
    "    - 5.3. <a href='#17'>Multinomial Naive Bayes Model</a>\n",
    "6. <a href='#6'>Using WordCloud to see positive and negative words</a>\n",
    "7. <a href='#19'>Conclusion</a>"
   ]
  },
  {
   "cell_type": "markdown",
   "metadata": {},
   "source": [
    "### 1. <a id=\"1\">Importing necessary Libraries and Dataset</a> \n",
    "[back to top](#18)"
   ]
  },
  {
   "cell_type": "code",
   "execution_count": 5,
   "metadata": {
    "_cell_guid": "79c7e3d0-c299-4dcb-8224-4455121ee9b0",
    "_uuid": "d629ff2d2480ee46fbb7e2d37f6b5fab8052498a",
    "execution": {
     "iopub.execute_input": "2022-08-27T20:29:11.312893Z",
     "iopub.status.busy": "2022-08-27T20:29:11.312537Z",
     "iopub.status.idle": "2022-08-27T20:29:14.425238Z",
     "shell.execute_reply": "2022-08-27T20:29:14.424258Z",
     "shell.execute_reply.started": "2022-08-27T20:29:11.312840Z"
    }
   },
   "outputs": [
    {
     "name": "stdout",
     "output_type": "stream",
     "text": [
      "Requirement already satisfied: wordcloud in d:\\anaconda3\\lib\\site-packages (1.8.2.2)\n",
      "Requirement already satisfied: numpy>=1.6.1 in d:\\anaconda3\\lib\\site-packages (from wordcloud) (1.21.5)\n",
      "Requirement already satisfied: pillow in d:\\anaconda3\\lib\\site-packages (from wordcloud) (9.0.1)\n",
      "Requirement already satisfied: matplotlib in d:\\anaconda3\\lib\\site-packages (from wordcloud) (3.5.1)\n",
      "Requirement already satisfied: cycler>=0.10 in d:\\anaconda3\\lib\\site-packages (from matplotlib->wordcloud) (0.11.0)\n",
      "Requirement already satisfied: packaging>=20.0 in d:\\anaconda3\\lib\\site-packages (from matplotlib->wordcloud) (21.3)\n",
      "Requirement already satisfied: python-dateutil>=2.7 in d:\\anaconda3\\lib\\site-packages (from matplotlib->wordcloud) (2.8.2)\n",
      "Requirement already satisfied: pyparsing>=2.2.1 in d:\\anaconda3\\lib\\site-packages (from matplotlib->wordcloud) (3.0.4)\n",
      "Requirement already satisfied: fonttools>=4.22.0 in d:\\anaconda3\\lib\\site-packages (from matplotlib->wordcloud) (4.25.0)\n",
      "Requirement already satisfied: kiwisolver>=1.0.1 in d:\\anaconda3\\lib\\site-packages (from matplotlib->wordcloud) (1.3.2)\n",
      "Requirement already satisfied: six>=1.5 in d:\\anaconda3\\lib\\site-packages (from python-dateutil>=2.7->matplotlib->wordcloud) (1.16.0)\n"
     ]
    }
   ],
   "source": [
    "#Load the libraries\n",
    "import numpy as np\n",
    "import pandas as pd\n",
    "import seaborn as sns\n",
    "import matplotlib.pyplot as plt\n",
    "import nltk\n",
    "from sklearn.feature_extraction.text import CountVectorizer\n",
    "from sklearn.feature_extraction.text import TfidfVectorizer\n",
    "from sklearn.preprocessing import LabelBinarizer\n",
    "from nltk.corpus import stopwords\n",
    "from nltk.stem.porter import PorterStemmer\n",
    "!pip install wordcloud\n",
    "from wordcloud import WordCloud,STOPWORDS\n",
    "from nltk.stem import WordNetLemmatizer\n",
    "from nltk.tokenize import word_tokenize,sent_tokenize\n",
    "from bs4 import BeautifulSoup\n",
    "import spacy\n",
    "import re,string,unicodedata\n",
    "from nltk.tokenize.toktok import ToktokTokenizer\n",
    "from nltk.stem import LancasterStemmer,WordNetLemmatizer\n",
    "from sklearn.linear_model import LogisticRegression,SGDClassifier\n",
    "from sklearn.naive_bayes import MultinomialNB\n",
    "from sklearn.svm import SVC\n",
    "#from textblob import TextBlob\n",
    "#from textblob import Word\n",
    "from sklearn.metrics import classification_report,confusion_matrix,accuracy_score\n",
    "\n",
    "import warnings\n",
    "warnings.filterwarnings('ignore')\n"
   ]
  },
  {
   "cell_type": "code",
   "execution_count": 6,
   "metadata": {
    "_uuid": "4c593c17588723c0b0b0f19851cb70a8447ced76",
    "execution": {
     "iopub.execute_input": "2022-08-27T20:29:18.090431Z",
     "iopub.status.busy": "2022-08-27T20:29:18.090067Z",
     "iopub.status.idle": "2022-08-27T20:29:19.593705Z",
     "shell.execute_reply": "2022-08-27T20:29:19.592676Z",
     "shell.execute_reply.started": "2022-08-27T20:29:18.090373Z"
    },
    "scrolled": true
   },
   "outputs": [
    {
     "name": "stdout",
     "output_type": "stream",
     "text": [
      "(50000, 2)\n"
     ]
    },
    {
     "data": {
      "text/html": [
       "<div>\n",
       "<style scoped>\n",
       "    .dataframe tbody tr th:only-of-type {\n",
       "        vertical-align: middle;\n",
       "    }\n",
       "\n",
       "    .dataframe tbody tr th {\n",
       "        vertical-align: top;\n",
       "    }\n",
       "\n",
       "    .dataframe thead th {\n",
       "        text-align: right;\n",
       "    }\n",
       "</style>\n",
       "<table border=\"1\" class=\"dataframe\">\n",
       "  <thead>\n",
       "    <tr style=\"text-align: right;\">\n",
       "      <th></th>\n",
       "      <th>review</th>\n",
       "      <th>sentiment</th>\n",
       "    </tr>\n",
       "  </thead>\n",
       "  <tbody>\n",
       "    <tr>\n",
       "      <th>0</th>\n",
       "      <td>One of the other reviewers has mentioned that ...</td>\n",
       "      <td>positive</td>\n",
       "    </tr>\n",
       "    <tr>\n",
       "      <th>1</th>\n",
       "      <td>A wonderful little production. &lt;br /&gt;&lt;br /&gt;The...</td>\n",
       "      <td>positive</td>\n",
       "    </tr>\n",
       "    <tr>\n",
       "      <th>2</th>\n",
       "      <td>I thought this was a wonderful way to spend ti...</td>\n",
       "      <td>positive</td>\n",
       "    </tr>\n",
       "    <tr>\n",
       "      <th>3</th>\n",
       "      <td>Basically there's a family where a little boy ...</td>\n",
       "      <td>negative</td>\n",
       "    </tr>\n",
       "    <tr>\n",
       "      <th>4</th>\n",
       "      <td>Petter Mattei's \"Love in the Time of Money\" is...</td>\n",
       "      <td>positive</td>\n",
       "    </tr>\n",
       "    <tr>\n",
       "      <th>5</th>\n",
       "      <td>Probably my all-time favorite movie, a story o...</td>\n",
       "      <td>positive</td>\n",
       "    </tr>\n",
       "    <tr>\n",
       "      <th>6</th>\n",
       "      <td>I sure would like to see a resurrection of a u...</td>\n",
       "      <td>positive</td>\n",
       "    </tr>\n",
       "    <tr>\n",
       "      <th>7</th>\n",
       "      <td>This show was an amazing, fresh &amp; innovative i...</td>\n",
       "      <td>negative</td>\n",
       "    </tr>\n",
       "    <tr>\n",
       "      <th>8</th>\n",
       "      <td>Encouraged by the positive comments about this...</td>\n",
       "      <td>negative</td>\n",
       "    </tr>\n",
       "    <tr>\n",
       "      <th>9</th>\n",
       "      <td>If you like original gut wrenching laughter yo...</td>\n",
       "      <td>positive</td>\n",
       "    </tr>\n",
       "  </tbody>\n",
       "</table>\n",
       "</div>"
      ],
      "text/plain": [
       "                                              review sentiment\n",
       "0  One of the other reviewers has mentioned that ...  positive\n",
       "1  A wonderful little production. <br /><br />The...  positive\n",
       "2  I thought this was a wonderful way to spend ti...  positive\n",
       "3  Basically there's a family where a little boy ...  negative\n",
       "4  Petter Mattei's \"Love in the Time of Money\" is...  positive\n",
       "5  Probably my all-time favorite movie, a story o...  positive\n",
       "6  I sure would like to see a resurrection of a u...  positive\n",
       "7  This show was an amazing, fresh & innovative i...  negative\n",
       "8  Encouraged by the positive comments about this...  negative\n",
       "9  If you like original gut wrenching laughter yo...  positive"
      ]
     },
     "execution_count": 6,
     "metadata": {},
     "output_type": "execute_result"
    }
   ],
   "source": [
    "#importing the training data\n",
    "imdb_data=pd.read_csv('IMDB Dataset.csv')\n",
    "print(imdb_data.shape)\n",
    "imdb_data.head(10)"
   ]
  },
  {
   "cell_type": "markdown",
   "metadata": {},
   "source": [
    "### 2. <a id=\"2\">Exploratory Data Analysis</a> \n",
    "[back to top](#18)"
   ]
  },
  {
   "cell_type": "code",
   "execution_count": 7,
   "metadata": {
    "_uuid": "7f11c83b1320c8982b36889145f7f770563674a8",
    "execution": {
     "iopub.execute_input": "2022-08-27T20:29:24.246284Z",
     "iopub.status.busy": "2022-08-27T20:29:24.243885Z",
     "iopub.status.idle": "2022-08-27T20:29:24.388711Z",
     "shell.execute_reply": "2022-08-27T20:29:24.387545Z",
     "shell.execute_reply.started": "2022-08-27T20:29:24.246208Z"
    }
   },
   "outputs": [
    {
     "data": {
      "text/html": [
       "<div>\n",
       "<style scoped>\n",
       "    .dataframe tbody tr th:only-of-type {\n",
       "        vertical-align: middle;\n",
       "    }\n",
       "\n",
       "    .dataframe tbody tr th {\n",
       "        vertical-align: top;\n",
       "    }\n",
       "\n",
       "    .dataframe thead th {\n",
       "        text-align: right;\n",
       "    }\n",
       "</style>\n",
       "<table border=\"1\" class=\"dataframe\">\n",
       "  <thead>\n",
       "    <tr style=\"text-align: right;\">\n",
       "      <th></th>\n",
       "      <th>review</th>\n",
       "      <th>sentiment</th>\n",
       "    </tr>\n",
       "  </thead>\n",
       "  <tbody>\n",
       "    <tr>\n",
       "      <th>count</th>\n",
       "      <td>50000</td>\n",
       "      <td>50000</td>\n",
       "    </tr>\n",
       "    <tr>\n",
       "      <th>unique</th>\n",
       "      <td>49582</td>\n",
       "      <td>2</td>\n",
       "    </tr>\n",
       "    <tr>\n",
       "      <th>top</th>\n",
       "      <td>Loved today's show!!! It was a variety and not...</td>\n",
       "      <td>positive</td>\n",
       "    </tr>\n",
       "    <tr>\n",
       "      <th>freq</th>\n",
       "      <td>5</td>\n",
       "      <td>25000</td>\n",
       "    </tr>\n",
       "  </tbody>\n",
       "</table>\n",
       "</div>"
      ],
      "text/plain": [
       "                                                   review sentiment\n",
       "count                                               50000     50000\n",
       "unique                                              49582         2\n",
       "top     Loved today's show!!! It was a variety and not...  positive\n",
       "freq                                                    5     25000"
      ]
     },
     "execution_count": 7,
     "metadata": {},
     "output_type": "execute_result"
    }
   ],
   "source": [
    "#Summary of the dataset\n",
    "imdb_data.describe()"
   ]
  },
  {
   "cell_type": "code",
   "execution_count": 8,
   "metadata": {
    "_uuid": "cb6bb97b0f851947dcf341a1de5708a1f2bc64c1",
    "execution": {
     "iopub.execute_input": "2022-08-27T20:29:26.848526Z",
     "iopub.status.busy": "2022-08-27T20:29:26.848146Z",
     "iopub.status.idle": "2022-08-27T20:29:26.861831Z",
     "shell.execute_reply": "2022-08-27T20:29:26.860955Z",
     "shell.execute_reply.started": "2022-08-27T20:29:26.848454Z"
    }
   },
   "outputs": [
    {
     "data": {
      "text/plain": [
       "positive    25000\n",
       "negative    25000\n",
       "Name: sentiment, dtype: int64"
      ]
     },
     "execution_count": 8,
     "metadata": {},
     "output_type": "execute_result"
    }
   ],
   "source": [
    "#sentiment count\n",
    "imdb_data['sentiment'].value_counts()"
   ]
  },
  {
   "cell_type": "code",
   "execution_count": 9,
   "metadata": {
    "execution": {
     "iopub.execute_input": "2022-08-27T20:29:39.000977Z",
     "iopub.status.busy": "2022-08-27T20:29:38.999856Z",
     "iopub.status.idle": "2022-08-27T20:29:39.179368Z",
     "shell.execute_reply": "2022-08-27T20:29:39.178262Z",
     "shell.execute_reply.started": "2022-08-27T20:29:39.000899Z"
    }
   },
   "outputs": [
    {
     "data": {
      "image/png": "[encoded data removed]",
      "text/plain": [
       "<Figure size 432x288 with 1 Axes>"
      ]
     },
     "metadata": {
      "needs_background": "light"
     },
     "output_type": "display_data"
    }
   ],
   "source": [
    "sns.countplot(imdb_data['sentiment'])\n",
    "plt.show()"
   ]
  },
  {
   "cell_type": "markdown",
   "metadata": {},
   "source": [
    "Since there is a 50-50 distribution between positive and negative reviews, we can conclude that the dataset is balanced."
   ]
  },
  {
   "cell_type": "markdown",
   "metadata": {},
   "source": [
    "### 3. <a id=\"3\">Preparing the Data for train test split</a>\n",
    "[back to top](#18)"
   ]
  },
  {
   "cell_type": "code",
   "execution_count": 10,
   "metadata": {
    "_uuid": "d3aaabff555e07feb11c72cc3a6e457615975ffe",
    "execution": {
     "iopub.execute_input": "2022-08-27T20:29:46.925878Z",
     "iopub.status.busy": "2022-08-27T20:29:46.925189Z",
     "iopub.status.idle": "2022-08-27T20:29:46.934364Z",
     "shell.execute_reply": "2022-08-27T20:29:46.933272Z",
     "shell.execute_reply.started": "2022-08-27T20:29:46.925819Z"
    }
   },
   "outputs": [
    {
     "name": "stdout",
     "output_type": "stream",
     "text": [
      "(40000,) (40000,)\n",
      "(10000,) (10000,)\n"
     ]
    }
   ],
   "source": [
    "#split the dataset  \n",
    "#train dataset\n",
    "train_reviews=imdb_data.review[:40000]\n",
    "train_sentiments=imdb_data.sentiment[:40000]\n",
    "#test dataset\n",
    "test_reviews=imdb_data.review[40000:]\n",
    "test_sentiments=imdb_data.sentiment[40000:]\n",
    "print(train_reviews.shape,train_sentiments.shape)\n",
    "print(test_reviews.shape,test_sentiments.shape)"
   ]
  },
  {
   "cell_type": "markdown",
   "metadata": {},
   "source": [
    "#### 3.1. <a id='7'>Text normalization</a>"
   ]
  },
  {
   "cell_type": "code",
   "execution_count": 11,
   "metadata": {
    "_uuid": "f000c43d91f68f6668539f089c6a54c5ce3bd819",
    "execution": {
     "iopub.execute_input": "2022-08-27T20:30:19.102216Z",
     "iopub.status.busy": "2022-08-27T20:30:19.101873Z",
     "iopub.status.idle": "2022-08-27T20:30:19.115000Z",
     "shell.execute_reply": "2022-08-27T20:30:19.113939Z",
     "shell.execute_reply.started": "2022-08-27T20:30:19.102163Z"
    }
   },
   "outputs": [],
   "source": [
    "#Tokenization of text\n",
    "#tokenizer=ToktokTokenizer()\n",
    "#Setting English stopwords\n",
    "#stopword_list=nltk.corpus.stopwords.words('english')"
   ]
  },
  {
   "cell_type": "markdown",
   "metadata": {},
   "source": [
    "#### 3.2. <a id='8'>Removing html strips and noise text</a>"
   ]
  },
  {
   "cell_type": "code",
   "execution_count": 12,
   "metadata": {
    "_uuid": "6f6fcafbdadcdcb0c164e37d71fb9d1623f74d0a",
    "execution": {
     "iopub.execute_input": "2022-08-27T20:32:40.969935Z",
     "iopub.status.busy": "2022-08-27T20:32:40.969525Z",
     "iopub.status.idle": "2022-08-27T20:32:44.698377Z",
     "shell.execute_reply": "2022-08-27T20:32:44.697393Z",
     "shell.execute_reply.started": "2022-08-27T20:32:40.969875Z"
    }
   },
   "outputs": [],
   "source": [
    "#Removing the html strips\n",
    "def strip_html(text):\n",
    "    soup = BeautifulSoup(text, \"html.parser\")\n",
    "    return soup.get_text()\n",
    "\n",
    "#Removing the square brackets\n",
    "def remove_between_square_brackets(text):\n",
    "    return re.sub('\\[[^]]*\\]', '', text)\n",
    "\n",
    "#Removing the noisy text\n",
    "def denoise_text(text):\n",
    "    text = strip_html(text)\n",
    "    text = remove_between_square_brackets(text)\n",
    "    return text\n",
    "#Apply function on review column\n",
    "imdb_data['review']=imdb_data['review'].apply(denoise_text)"
   ]
  },
  {
   "cell_type": "markdown",
   "metadata": {},
   "source": [
    "#### 3.3. <a id='9'>Removing special characters</a>"
   ]
  },
  {
   "cell_type": "code",
   "execution_count": 13,
   "metadata": {
    "_uuid": "219da72b025121fd98081df50ae0fcaace10cc9d",
    "execution": {
     "iopub.execute_input": "2022-08-27T20:32:48.493623Z",
     "iopub.status.busy": "2022-08-27T20:32:48.493271Z",
     "iopub.status.idle": "2022-08-27T20:32:50.002084Z",
     "shell.execute_reply": "2022-08-27T20:32:50.000973Z",
     "shell.execute_reply.started": "2022-08-27T20:32:48.493555Z"
    }
   },
   "outputs": [],
   "source": [
    "#Define function for removing special characters\n",
    "def remove_special_characters(text, remove_digits=True):\n",
    "    pattern=r'[^a-zA-z0-9\\s]'\n",
    "    text=re.sub(pattern,'',text)\n",
    "    return text\n",
    "#Apply function on review column\n",
    "imdb_data['review']=imdb_data['review'].apply(remove_special_characters)"
   ]
  },
  {
   "cell_type": "markdown",
   "metadata": {},
   "source": [
    "#### 3.4. <a id='10'>Removing stopwords</a>"
   ]
  },
  {
   "cell_type": "code",
   "execution_count": 14,
   "metadata": {
    "_uuid": "5dbff82b4d2d188d8777b273a75d8ac714d38885",
    "execution": {
     "iopub.execute_input": "2022-08-27T20:33:12.012796Z",
     "iopub.status.busy": "2022-08-27T20:33:12.012391Z",
     "iopub.status.idle": "2022-08-27T20:33:57.066074Z",
     "shell.execute_reply": "2022-08-27T20:33:57.064790Z",
     "shell.execute_reply.started": "2022-08-27T20:33:12.012735Z"
    }
   },
   "outputs": [],
   "source": [
    "#set stopwords to english\n",
    "#stop=set(stopwords.words('english'))\n",
    "#print(stop)\n",
    "\n",
    "#removing the stopwords\n",
    "#def remove_stopwords(text, is_lower_case=False):\n",
    "#     tokens = tokenizer.tokenize(text)\n",
    "#     tokens = [token.strip() for token in tokens]\n",
    "#     if is_lower_case:\n",
    "#         filtered_tokens = [token for token in tokens if token not in stopword_list]\n",
    "#     else:\n",
    "#         filtered_tokens = [token for token in tokens if token.lower() not in stopword_list]\n",
    "#     filtered_text = ' '.join(filtered_tokens)    \n",
    "#     return filtered_text\n",
    "# #Apply function on review column\n",
    "# imdb_data['review']=imdb_data['review'].apply(remove_stopwords)"
   ]
  },
  {
   "cell_type": "markdown",
   "metadata": {},
   "source": [
    "#### 3.5. <a id='11'>Normalized training set reviews</a>"
   ]
  },
  {
   "cell_type": "code",
   "execution_count": 15,
   "metadata": {
    "_kg_hide-output": true,
    "_uuid": "b20c242bd091929ca896ea2c6e936ca00efe6ecf",
    "execution": {
     "iopub.execute_input": "2022-08-27T20:36:24.577212Z",
     "iopub.status.busy": "2022-08-27T20:36:24.576533Z",
     "iopub.status.idle": "2022-08-27T20:36:24.584908Z",
     "shell.execute_reply": "2022-08-27T20:36:24.584103Z",
     "shell.execute_reply.started": "2022-08-27T20:36:24.577149Z"
    }
   },
   "outputs": [
    {
     "data": {
      "text/plain": [
       "'A wonderful little production The filming technique is very unassuming very oldtimeBBC fashion and gives a comforting and sometimes discomforting sense of realism to the entire piece The actors are extremely well chosen Michael Sheen not only has got all the polari but he has all the voices down pat too You can truly see the seamless editing guided by the references to Williams diary entries not only is it well worth the watching but it is a terrificly written and performed piece A masterful production about one of the great masters of comedy and his life The realism really comes home with the little things the fantasy of the guard which rather than use the traditional dream techniques remains solid then disappears It plays on our knowledge and our senses particularly with the scenes concerning Orton and Halliwell and the sets particularly of their flat with Halliwells murals decorating every surface are terribly well done'"
      ]
     },
     "execution_count": 15,
     "metadata": {},
     "output_type": "execute_result"
    }
   ],
   "source": [
    "#normalized train reviews\n",
    "norm_train_reviews=imdb_data.review[:40000]\n",
    "norm_train_reviews[1]\n",
    "#convert dataframe to string\n",
    "#norm_train_string=norm_train_reviews.to_string()\n",
    "#Spelling correction using Textblob\n",
    "#norm_train_spelling=TextBlob(norm_train_string)\n",
    "#norm_train_spelling.correct()\n",
    "#Tokenization using Textblob\n",
    "#norm_train_words=norm_train_spelling.words\n",
    "#norm_train_words"
   ]
  },
  {
   "cell_type": "markdown",
   "metadata": {},
   "source": [
    "#### 3.6. <a id='12'>Normalized test set reviews</a>"
   ]
  },
  {
   "cell_type": "code",
   "execution_count": 16,
   "metadata": {
    "_kg_hide-output": true,
    "_uuid": "c5d0d38bd9976150367e9d75f3b933774c96a1ab",
    "execution": {
     "iopub.execute_input": "2022-08-27T20:36:27.694346Z",
     "iopub.status.busy": "2022-08-27T20:36:27.693837Z",
     "iopub.status.idle": "2022-08-27T20:36:27.700391Z",
     "shell.execute_reply": "2022-08-27T20:36:27.699645Z",
     "shell.execute_reply.started": "2022-08-27T20:36:27.694295Z"
    }
   },
   "outputs": [
    {
     "data": {
      "text/plain": [
       "'I read all the reviews here AFTER watching this piece of cinematic garbage and it took me at least 2 pages to find out that somebody else didnt think that this appallingly unfunny montage WASNT the acme of humour in the 70s or indeed in any other era If this isnt the least funny set of sketch comedy Ive ever seen itll do till it comes along Half of the skits had already been done and infinitely better by acts such as Monty Python and Woody Allen If I was to say that a nice piece of animation that lasts about 90 seconds is the highlight of this film it would still not get close to summing up just how mindless and drivelridden this waste of 75 minutes is Seminal comedy Only in the world where seminal really DOES mean semen Scatological humour Only in a world where scat IS actually feces Precursor jokes Only if by that we mean that this is a handbook of how NOT to do comedy Tits and bums and the odd beaver Niceif you are a pubescent boy with at least one hand free and havent found out that Playboy exists Give it a break because it was the early 70s No way There had been sketch comedy going back at least ten years prior The only way I could even forgive this film even being made is if it was at gunpoint Retro Hardly Sketches about clowns subtly perverting children may be cutting edge in some circles and it could actually have been funny but it just comes off as really quite sad What kept me going throughout the entire 75 minutes Sheer belief that they may have saved a genuinely funny skit for the end I gave the film a 1 because there was no lower scoreand I can only recommend it to insomniacs or coma patientsor perhaps people suffering from lockjawtheir jaws would finally drop open in disbelief'"
      ]
     },
     "execution_count": 16,
     "metadata": {},
     "output_type": "execute_result"
    }
   ],
   "source": [
    "#Normalized test reviews\n",
    "norm_test_reviews=imdb_data.review[40000:]\n",
    "norm_test_reviews[45005]\n"
   ]
  },
  {
   "cell_type": "markdown",
   "metadata": {},
   "source": [
    "### 4. <a id='4'>Processing the text using models</a>\n",
    "[back to top](#18)"
   ]
  },
  {
   "cell_type": "markdown",
   "metadata": {
    "_uuid": "1c2a872ffcb6b8076fdbbba641af12081b6022ef"
   },
   "source": [
    "#### 4.1. <a id='13'>Bags of words Model</a>\n",
    "\n",
    "It is used to convert text documents to numerical vectors or bag of words."
   ]
  },
  {
   "cell_type": "code",
   "execution_count": 17,
   "metadata": {
    "_uuid": "35cf9dcefb40b2dc520c5b0d559695324c46cc04",
    "execution": {
     "iopub.execute_input": "2022-08-27T20:36:50.635013Z",
     "iopub.status.busy": "2022-08-27T20:36:50.634638Z",
     "iopub.status.idle": "2022-08-27T20:38:01.313498Z",
     "shell.execute_reply": "2022-08-27T20:38:01.312683Z",
     "shell.execute_reply.started": "2022-08-27T20:36:50.634947Z"
    }
   },
   "outputs": [
    {
     "name": "stdout",
     "output_type": "stream",
     "text": [
      "BOW_cv_train: (40000, 6596816)\n",
      "BOW_cv_test: (10000, 6596816)\n"
     ]
    }
   ],
   "source": [
    "#Count vectorizer for bag of words\n",
    "cv=CountVectorizer(min_df=0,max_df=1,binary=False,ngram_range=(1,3))\n",
    "#transformed train reviews\n",
    "cv_train_reviews=cv.fit_transform(norm_train_reviews)\n",
    "#transformed test reviews\n",
    "cv_test_reviews=cv.transform(norm_test_reviews)\n",
    "\n",
    "print('BOW_cv_train:',cv_train_reviews.shape)\n",
    "print('BOW_cv_test:',cv_test_reviews.shape)\n",
    "#vocab=cv.get_feature_names()-toget feature names"
   ]
  },
  {
   "cell_type": "code",
   "execution_count": 18,
   "metadata": {
    "execution": {
     "iopub.execute_input": "2022-08-27T20:39:50.574114Z",
     "iopub.status.busy": "2022-08-27T20:39:50.573372Z",
     "iopub.status.idle": "2022-08-27T20:39:50.580855Z",
     "shell.execute_reply": "2022-08-27T20:39:50.579999Z",
     "shell.execute_reply.started": "2022-08-27T20:39:50.573737Z"
    }
   },
   "outputs": [
    {
     "data": {
      "text/plain": [
       "<40000x6596816 sparse matrix of type '<class 'numpy.int64'>'\n",
       "\twith 6596816 stored elements in Compressed Sparse Row format>"
      ]
     },
     "execution_count": 18,
     "metadata": {},
     "output_type": "execute_result"
    }
   ],
   "source": [
    "cv_train_reviews"
   ]
  },
  {
   "cell_type": "markdown",
   "metadata": {
    "_uuid": "52371868f05ff9cf157280c5acf0f5bc71ee176d"
   },
   "source": [
    "#### 4.2. <a id='14'>Term Frequency-Inverse Document Frequency model (TFIDF)</a>\n",
    "\n",
    "It is used to convert text documents to  matrix of  tfidf features."
   ]
  },
  {
   "cell_type": "code",
   "execution_count": 19,
   "metadata": {
    "_uuid": "afe6de957339921e05a6faeaf731f2272fd31946",
    "execution": {
     "iopub.execute_input": "2022-08-27T20:40:58.396017Z",
     "iopub.status.busy": "2022-08-27T20:40:58.395671Z",
     "iopub.status.idle": "2022-08-27T20:42:14.045440Z",
     "shell.execute_reply": "2022-08-27T20:42:14.044463Z",
     "shell.execute_reply.started": "2022-08-27T20:40:58.395955Z"
    }
   },
   "outputs": [
    {
     "name": "stdout",
     "output_type": "stream",
     "text": [
      "Tfidf_train: (40000, 6596816)\n",
      "Tfidf_test: (10000, 6596816)\n"
     ]
    }
   ],
   "source": [
    "#Tfidf vectorizer\n",
    "tv=TfidfVectorizer(min_df=0,max_df=1,use_idf=True,ngram_range=(1,3))\n",
    "#transformed train reviews\n",
    "tv_train_reviews=tv.fit_transform(norm_train_reviews)\n",
    "#transformed test reviews\n",
    "tv_test_reviews=tv.transform(norm_test_reviews)\n",
    "print('Tfidf_train:',tv_train_reviews.shape)\n",
    "print('Tfidf_test:',tv_test_reviews.shape)"
   ]
  },
  {
   "cell_type": "markdown",
   "metadata": {},
   "source": [
    "#### Labeling and splitting the sentiment text"
   ]
  },
  {
   "cell_type": "code",
   "execution_count": 20,
   "metadata": {
    "_uuid": "60f5d496ce4109d1cdbf08f4284d4d26efd93922",
    "execution": {
     "iopub.execute_input": "2022-08-27T20:42:52.627641Z",
     "iopub.status.busy": "2022-08-27T20:42:52.626921Z",
     "iopub.status.idle": "2022-08-27T20:42:52.771686Z",
     "shell.execute_reply": "2022-08-27T20:42:52.770557Z",
     "shell.execute_reply.started": "2022-08-27T20:42:52.627274Z"
    }
   },
   "outputs": [
    {
     "name": "stdout",
     "output_type": "stream",
     "text": [
      "(50000, 1)\n"
     ]
    }
   ],
   "source": [
    "#labeling the sentiment data\n",
    "lb=LabelBinarizer()\n",
    "#transformed sentiment data\n",
    "sentiment_data=lb.fit_transform(imdb_data['sentiment'])\n",
    "print(sentiment_data.shape)"
   ]
  },
  {
   "cell_type": "code",
   "execution_count": 21,
   "metadata": {
    "_kg_hide-output": true,
    "_uuid": "ca1e4cc917265ac98a72c37cffe57f27e9897408",
    "execution": {
     "iopub.execute_input": "2022-08-27T20:46:10.988873Z",
     "iopub.status.busy": "2022-08-27T20:46:10.988396Z",
     "iopub.status.idle": "2022-08-27T20:46:10.994728Z",
     "shell.execute_reply": "2022-08-27T20:46:10.993926Z",
     "shell.execute_reply.started": "2022-08-27T20:46:10.988780Z"
    }
   },
   "outputs": [
    {
     "name": "stdout",
     "output_type": "stream",
     "text": [
      "Train set size:  (40000, 1)\n",
      "Test set size:  (10000, 1)\n"
     ]
    }
   ],
   "source": [
    "#Spliting the sentiment data\n",
    "train_sentiments=sentiment_data[:40000]\n",
    "test_sentiments=sentiment_data[40000:]\n",
    "print('Train set size: ',train_sentiments.shape)\n",
    "print('Test set size: ',test_sentiments.shape)"
   ]
  },
  {
   "cell_type": "markdown",
   "metadata": {},
   "source": [
    "### 5. <a id=\"5\">Modelling the dataset and Performance Metrics</a>\n",
    "[back to top](#18)"
   ]
  },
  {
   "cell_type": "markdown",
   "metadata": {
    "_uuid": "d5e45fdc9d062a5b9b9dd665ffe732776e196953"
   },
   "source": [
    "#### 5.1. <a id='15'>Logistic Regression models</a>"
   ]
  },
  {
   "cell_type": "code",
   "execution_count": null,
   "metadata": {
    "_uuid": "142d007421900550079a12ae8655bcae678ebaad",
    "execution": {
     "iopub.execute_input": "2022-08-27T20:48:26.817586Z",
     "iopub.status.busy": "2022-08-27T20:48:26.817067Z",
     "iopub.status.idle": "2022-08-27T20:48:50.804765Z",
     "shell.execute_reply": "2022-08-27T20:48:50.803767Z",
     "shell.execute_reply.started": "2022-08-27T20:48:26.817536Z"
    }
   },
   "outputs": [
    {
     "name": "stdout",
     "output_type": "stream",
     "text": [
      "LogisticRegression(C=1, max_iter=500, random_state=42)\n"
     ]
    }
   ],
   "source": [
    "#training the model\n",
    "lr=LogisticRegression(penalty='l2',max_iter=500,C=1,random_state=42)\n",
    "#Fitting the model for Bag of words\n",
    "lr_bow=lr.fit(cv_train_reviews,train_sentiments)\n",
    "print(lr_bow)\n",
    "#Fitting the model for tfidf features\n",
    "lr_tfidf=lr.fit(tv_train_reviews,train_sentiments)\n",
    "print(lr_tfidf)"
   ]
  },
  {
   "cell_type": "markdown",
   "metadata": {
    "_uuid": "07eb6d52eb32469e3be82e90af636d598a7b7c27"
   },
   "source": [
    "##### Predicting using the LR model"
   ]
  },
  {
   "cell_type": "code",
   "execution_count": null,
   "metadata": {
    "_uuid": "52ad86935b76117f97b79e6672a3ba12352b9461",
    "execution": {
     "iopub.execute_input": "2022-08-27T20:50:28.889775Z",
     "iopub.status.busy": "2022-08-27T20:50:28.889384Z",
     "iopub.status.idle": "2022-08-27T20:50:28.903104Z",
     "shell.execute_reply": "2022-08-27T20:50:28.901844Z",
     "shell.execute_reply.started": "2022-08-27T20:50:28.889699Z"
    }
   },
   "outputs": [],
   "source": [
    "#Predicting the model for bag of words\n",
    "lr_bow_predict=lr.predict(cv_test_reviews)\n",
    "print(lr_bow_predict)\n",
    "##Predicting the model for tfidf features\n",
    "lr_tfidf_predict=lr.predict(tv_test_reviews)\n",
    "print(lr_tfidf_predict)"
   ]
  },
  {
   "cell_type": "markdown",
   "metadata": {},
   "source": [
    "##### Performance of the model"
   ]
  },
  {
   "cell_type": "code",
   "execution_count": null,
   "metadata": {
    "execution": {
     "iopub.execute_input": "2022-08-27T20:50:31.051337Z",
     "iopub.status.busy": "2022-08-27T20:50:31.050728Z",
     "iopub.status.idle": "2022-08-27T20:50:31.062787Z",
     "shell.execute_reply": "2022-08-27T20:50:31.061806Z",
     "shell.execute_reply.started": "2022-08-27T20:50:31.051284Z"
    }
   },
   "outputs": [],
   "source": [
    "#Accuracy score for bag of words\n",
    "lr_bow_score=accuracy_score(test_sentiments,lr_bow_predict)\n",
    "print(\"lr_bow_score :\",lr_bow_score)\n",
    "#Accuracy score for tfidf features\n",
    "lr_tfidf_score=accuracy_score(test_sentiments,lr_tfidf_predict)\n",
    "print(\"lr_tfidf_score :\",lr_tfidf_score)"
   ]
  },
  {
   "cell_type": "code",
   "execution_count": null,
   "metadata": {
    "_uuid": "f89c7e7a6136d08790ffbf6bc4d0d05455f8555a",
    "execution": {
     "iopub.execute_input": "2022-08-27T20:50:46.851191Z",
     "iopub.status.busy": "2022-08-27T20:50:46.850510Z",
     "iopub.status.idle": "2022-08-27T20:50:46.898067Z",
     "shell.execute_reply": "2022-08-27T20:50:46.896940Z",
     "shell.execute_reply.started": "2022-08-27T20:50:46.851134Z"
    }
   },
   "outputs": [],
   "source": [
    "#Classification report for bag of words \n",
    "lr_bow_report=classification_report(test_sentiments,lr_bow_predict,target_names=['Positive','Negative'])\n",
    "print(lr_bow_report)\n",
    "\n",
    "#Classification report for tfidf features\n",
    "lr_tfidf_report=classification_report(test_sentiments,lr_tfidf_predict,target_names=['Positive','Negative'])\n",
    "print(lr_tfidf_report)"
   ]
  },
  {
   "cell_type": "code",
   "execution_count": null,
   "metadata": {
    "_uuid": "a36c058e834938559b7202f2142e61423a613b7a",
    "execution": {
     "iopub.execute_input": "2022-08-27T20:51:56.631399Z",
     "iopub.status.busy": "2022-08-27T20:51:56.630676Z",
     "iopub.status.idle": "2022-08-27T20:51:56.660972Z",
     "shell.execute_reply": "2022-08-27T20:51:56.660250Z",
     "shell.execute_reply.started": "2022-08-27T20:51:56.631331Z"
    }
   },
   "outputs": [],
   "source": [
    "#confusion matrix for bag of words\n",
    "cm_bow=confusion_matrix(test_sentiments,lr_bow_predict,labels=[1,0])\n",
    "print('confusion matrix for bag of words: \\n',cm_bow)\n",
    "#confusion matrix for tfidf features\n",
    "cm_tfidf=confusion_matrix(test_sentiments,lr_tfidf_predict,labels=[1,0])\n",
    "print('confusion matrix for tfidf features: \\n',cm_tfidf)"
   ]
  },
  {
   "cell_type": "markdown",
   "metadata": {
    "_uuid": "8fde9753386e3593dc27c4e88e02bdc38462a018"
   },
   "source": [
    "#### 5.2. <a id='16'>Stochastic gradient descent or Linear support vector machines</a>"
   ]
  },
  {
   "cell_type": "code",
   "execution_count": null,
   "metadata": {
    "_uuid": "2211a9e97682195a0372b33e4da7267aad8548db",
    "execution": {
     "iopub.execute_input": "2022-08-27T20:52:30.625025Z",
     "iopub.status.busy": "2022-08-27T20:52:30.624441Z",
     "iopub.status.idle": "2022-08-27T20:52:33.782150Z",
     "shell.execute_reply": "2022-08-27T20:52:33.779367Z",
     "shell.execute_reply.started": "2022-08-27T20:52:30.624951Z"
    }
   },
   "outputs": [],
   "source": [
    "#training the linear svm\n",
    "svm=SGDClassifier(loss='hinge',max_iter=500,random_state=42)\n",
    "#fitting the svm for bag of words\n",
    "svm_bow=svm.fit(cv_train_reviews,train_sentiments)\n",
    "print(svm_bow)\n",
    "#fitting the svm for tfidf features\n",
    "svm_tfidf=svm.fit(tv_train_reviews,train_sentiments)\n",
    "print(svm_tfidf)"
   ]
  },
  {
   "cell_type": "markdown",
   "metadata": {
    "_uuid": "e9a7a973591c1d3cabaa1a47c57fa029d3752bab"
   },
   "source": [
    "##### Predicting using the SVM model"
   ]
  },
  {
   "cell_type": "code",
   "execution_count": null,
   "metadata": {
    "_uuid": "1a5ab738e04f0f9082c8d6ade6c2148cc398f8f3",
    "execution": {
     "iopub.execute_input": "2022-08-27T20:53:15.882976Z",
     "iopub.status.busy": "2022-08-27T20:53:15.882637Z",
     "iopub.status.idle": "2022-08-27T20:53:15.895629Z",
     "shell.execute_reply": "2022-08-27T20:53:15.894821Z",
     "shell.execute_reply.started": "2022-08-27T20:53:15.882924Z"
    }
   },
   "outputs": [],
   "source": [
    "#Predicting the model for bag of words\n",
    "svm_bow_predict=svm.predict(cv_test_reviews)\n",
    "print(svm_bow_predict)\n",
    "#Predicting the model for tfidf features\n",
    "svm_tfidf_predict=svm.predict(tv_test_reviews)\n",
    "print(svm_tfidf_predict)"
   ]
  },
  {
   "cell_type": "markdown",
   "metadata": {},
   "source": [
    "##### Performance of the model"
   ]
  },
  {
   "cell_type": "code",
   "execution_count": null,
   "metadata": {
    "execution": {
     "iopub.execute_input": "2022-08-27T20:53:42.575477Z",
     "iopub.status.busy": "2022-08-27T20:53:42.574811Z",
     "iopub.status.idle": "2022-08-27T20:53:42.585206Z",
     "shell.execute_reply": "2022-08-27T20:53:42.584258Z",
     "shell.execute_reply.started": "2022-08-27T20:53:42.575407Z"
    }
   },
   "outputs": [],
   "source": [
    "#Accuracy score for bag of words\n",
    "svm_bow_score=accuracy_score(test_sentiments,svm_bow_predict)\n",
    "print(\"svm_bow_score :\",svm_bow_score)\n",
    "#Accuracy score for tfidf features\n",
    "svm_tfidf_score=accuracy_score(test_sentiments,svm_tfidf_predict)\n",
    "print(\"svm_tfidf_score :\",svm_tfidf_score)"
   ]
  },
  {
   "cell_type": "code",
   "execution_count": null,
   "metadata": {
    "_uuid": "d112bc5b4944330b567e19a7e04544a9a459f238",
    "execution": {
     "iopub.execute_input": "2022-08-27T20:53:44.489089Z",
     "iopub.status.busy": "2022-08-27T20:53:44.488445Z",
     "iopub.status.idle": "2022-08-27T20:53:44.536467Z",
     "shell.execute_reply": "2022-08-27T20:53:44.535226Z",
     "shell.execute_reply.started": "2022-08-27T20:53:44.488752Z"
    }
   },
   "outputs": [],
   "source": [
    "#Classification report for bag of words \n",
    "svm_bow_report=classification_report(test_sentiments,svm_bow_predict,target_names=['Positive','Negative'])\n",
    "print(svm_bow_report)\n",
    "#Classification report for tfidf features\n",
    "svm_tfidf_report=classification_report(test_sentiments,svm_tfidf_predict,target_names=['Positive','Negative'])\n",
    "print(svm_tfidf_report)"
   ]
  },
  {
   "cell_type": "code",
   "execution_count": null,
   "metadata": {
    "_uuid": "49cde912705acbaef90d7a269cd27ea8a2815f03",
    "execution": {
     "iopub.execute_input": "2022-08-27T20:54:20.108472Z",
     "iopub.status.busy": "2022-08-27T20:54:20.108108Z",
     "iopub.status.idle": "2022-08-27T20:54:20.140437Z",
     "shell.execute_reply": "2022-08-27T20:54:20.139527Z",
     "shell.execute_reply.started": "2022-08-27T20:54:20.108406Z"
    }
   },
   "outputs": [],
   "source": [
    "#confusion matrix for bag of words\n",
    "cm_bow=confusion_matrix(test_sentiments,svm_bow_predict,labels=[1,0])\n",
    "print('confusion matrix for bag of words: \\n',cm_bow)\n",
    "#confusion matrix for tfidf features\n",
    "cm_tfidf=confusion_matrix(test_sentiments,svm_tfidf_predict,labels=[1,0])\n",
    "print('confusion matrix for tfidf features: \\n',cm_tfidf)"
   ]
  },
  {
   "cell_type": "markdown",
   "metadata": {},
   "source": [
    "#### 5.3. <a id='17'>Multinomial Naive Bayes Model</a>"
   ]
  },
  {
   "cell_type": "code",
   "execution_count": null,
   "metadata": {
    "execution": {
     "iopub.execute_input": "2022-08-27T20:54:58.443623Z",
     "iopub.status.busy": "2022-08-27T20:54:58.442936Z",
     "iopub.status.idle": "2022-08-27T20:55:00.466499Z",
     "shell.execute_reply": "2022-08-27T20:55:00.465551Z",
     "shell.execute_reply.started": "2022-08-27T20:54:58.443527Z"
    }
   },
   "outputs": [],
   "source": [
    "#training the model\n",
    "mnb=MultinomialNB()\n",
    "#fitting the svm for bag of words\n",
    "mnb_bow=mnb.fit(cv_train_reviews,train_sentiments)\n",
    "print(mnb_bow)\n",
    "#fitting the svm for tfidf features\n",
    "mnb_tfidf=mnb.fit(tv_train_reviews,train_sentiments)\n",
    "print(mnb_tfidf)"
   ]
  },
  {
   "cell_type": "markdown",
   "metadata": {},
   "source": [
    "##### Predicting using the Multinomial Naive Bayes Model"
   ]
  },
  {
   "cell_type": "code",
   "execution_count": null,
   "metadata": {
    "execution": {
     "iopub.execute_input": "2022-08-27T20:56:14.645229Z",
     "iopub.status.busy": "2022-08-27T20:56:14.644834Z",
     "iopub.status.idle": "2022-08-27T20:56:14.924420Z",
     "shell.execute_reply": "2022-08-27T20:56:14.923357Z",
     "shell.execute_reply.started": "2022-08-27T20:56:14.645158Z"
    }
   },
   "outputs": [],
   "source": [
    "#Predicting the model for bag of words\n",
    "mnb_bow_predict=mnb.predict(cv_test_reviews)\n",
    "print(mnb_bow_predict)\n",
    "#Predicting the model for tfidf features\n",
    "mnb_tfidf_predict=mnb.predict(tv_test_reviews)\n",
    "print(mnb_tfidf_predict)"
   ]
  },
  {
   "cell_type": "markdown",
   "metadata": {},
   "source": [
    "##### Perforamce of the model"
   ]
  },
  {
   "cell_type": "code",
   "execution_count": null,
   "metadata": {
    "execution": {
     "iopub.execute_input": "2022-08-27T20:56:15.947167Z",
     "iopub.status.busy": "2022-08-27T20:56:15.946799Z",
     "iopub.status.idle": "2022-08-27T20:56:15.956583Z",
     "shell.execute_reply": "2022-08-27T20:56:15.955639Z",
     "shell.execute_reply.started": "2022-08-27T20:56:15.947102Z"
    }
   },
   "outputs": [],
   "source": [
    "#Accuracy score for bag of words\n",
    "mnb_bow_score=accuracy_score(test_sentiments,mnb_bow_predict)\n",
    "print(\"mnb_bow_score :\",mnb_bow_score)\n",
    "#Accuracy score for tfidf features\n",
    "mnb_tfidf_score=accuracy_score(test_sentiments,mnb_tfidf_predict)\n",
    "print(\"mnb_tfidf_score :\",mnb_tfidf_score)"
   ]
  },
  {
   "cell_type": "code",
   "execution_count": null,
   "metadata": {
    "execution": {
     "iopub.execute_input": "2022-08-26T22:21:10.365426Z",
     "iopub.status.busy": "2022-08-26T22:21:10.364689Z",
     "iopub.status.idle": "2022-08-26T22:21:10.412758Z",
     "shell.execute_reply": "2022-08-26T22:21:10.411885Z",
     "shell.execute_reply.started": "2022-08-26T22:21:10.365371Z"
    }
   },
   "outputs": [],
   "source": [
    "#Classification report for bag of words \n",
    "mnb_bow_report=classification_report(test_sentiments,mnb_bow_predict,target_names=['Positive','Negative'])\n",
    "print(mnb_bow_report)\n",
    "#Classification report for tfidf features\n",
    "mnb_tfidf_report=classification_report(test_sentiments,mnb_tfidf_predict,target_names=['Positive','Negative'])\n",
    "print(mnb_tfidf_report)"
   ]
  },
  {
   "cell_type": "code",
   "execution_count": null,
   "metadata": {
    "execution": {
     "iopub.execute_input": "2022-08-27T20:56:38.850775Z",
     "iopub.status.busy": "2022-08-27T20:56:38.850106Z",
     "iopub.status.idle": "2022-08-27T20:56:38.879404Z",
     "shell.execute_reply": "2022-08-27T20:56:38.878459Z",
     "shell.execute_reply.started": "2022-08-27T20:56:38.850719Z"
    }
   },
   "outputs": [],
   "source": [
    "#confusion matrix for bag of words\n",
    "cm_bow=confusion_matrix(test_sentiments,mnb_bow_predict,labels=[1,0])\n",
    "print('confusion matrix for bag of words: \\n',cm_bow)\n",
    "#confusion matrix for tfidf features\n",
    "cm_tfidf=confusion_matrix(test_sentiments,mnb_tfidf_predict,labels=[1,0])\n",
    "print('confusion matrix for tfidf features: \\n',cm_tfidf)"
   ]
  },
  {
   "cell_type": "markdown",
   "metadata": {},
   "source": [
    "### 6. <a id='6'>Using WordCloud to see positive and negative words</a>\n",
    "[back to top](#18)"
   ]
  },
  {
   "cell_type": "markdown",
   "metadata": {},
   "source": [
    "#### Word cloud for positive review words"
   ]
  },
  {
   "cell_type": "code",
   "execution_count": null,
   "metadata": {
    "execution": {
     "iopub.execute_input": "2022-08-27T21:03:27.535561Z",
     "iopub.status.busy": "2022-08-27T21:03:27.535026Z",
     "iopub.status.idle": "2022-08-27T21:03:28.575271Z",
     "shell.execute_reply": "2022-08-27T21:03:28.573493Z",
     "shell.execute_reply.started": "2022-08-27T21:03:27.535504Z"
    }
   },
   "outputs": [],
   "source": [
    "#word cloud for positive review words\n",
    "plt.figure(figsize=(10,10))\n",
    "positive_text=norm_train_reviews[1]\n",
    "WC=WordCloud(width=1000,height=500,max_words=500,min_font_size=5)\n",
    "positive_words=WC.generate(positive_text)\n",
    "plt.imshow(positive_words,interpolation='bilinear')\n",
    "plt.show"
   ]
  },
  {
   "cell_type": "markdown",
   "metadata": {},
   "source": [
    "#### Word cloud for negative review words"
   ]
  },
  {
   "cell_type": "code",
   "execution_count": null,
   "metadata": {
    "execution": {
     "iopub.execute_input": "2022-08-27T20:59:52.907564Z",
     "iopub.status.busy": "2022-08-27T20:59:52.907235Z",
     "iopub.status.idle": "2022-08-27T20:59:53.834291Z",
     "shell.execute_reply": "2022-08-27T20:59:53.832977Z",
     "shell.execute_reply.started": "2022-08-27T20:59:52.907506Z"
    }
   },
   "outputs": [],
   "source": [
    "#Word cloud for negative review words\n",
    "plt.figure(figsize=(10,10))\n",
    "negative_text=norm_train_reviews[8]\n",
    "WC=WordCloud(width=1000,height=500,max_words=500,min_font_size=5)\n",
    "negative_words=WC.generate(negative_text)\n",
    "plt.imshow(negative_words,interpolation='bilinear')\n",
    "plt.show"
   ]
  },
  {
   "cell_type": "markdown",
   "metadata": {},
   "source": [
    "### 7. <a id='19'>Conclusion</a>\n",
    "[back to top](#18)\n",
    "* We can observed that both logistic regression and multinomial naive bayes model performing well compared to linear support vector  machines."
   ]
  }
 ],
 "metadata": {
  "kernelspec": {
   "display_name": "Python 3 (ipykernel)",
   "language": "python",
   "name": "python3"
  },
  "language_info": {
   "codemirror_mode": {
    "name": "ipython",
    "version": 3
   },
   "file_extension": ".py",
   "mimetype": "text/x-python",
   "name": "python",
   "nbconvert_exporter": "python",
   "pygments_lexer": "ipython3",
   "version": "3.9.12"
  }
 },
 "nbformat": 4,
 "nbformat_minor": 4
}
